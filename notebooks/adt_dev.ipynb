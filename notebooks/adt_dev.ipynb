{
 "cells": [
  {
   "cell_type": "code",
   "execution_count": 2,
   "metadata": {},
   "outputs": [
    {
     "name": "stdout",
     "output_type": "stream",
     "text": [
      "/Users/wliao0504/code/clif/CLIF-MIMIC\n"
     ]
    },
    {
     "name": "stderr",
     "output_type": "stream",
     "text": [
      "/Users/wliao0504/code/clif/CLIF-MIMIC/.venv/lib/python3.10/site-packages/IPython/core/magics/osm.py:417: UserWarning: This is now an optional IPython functionality, setting dhist requires you to install the `pickleshare` library.\n",
      "  self.shell.db['dhist'] = compress_dhist(dhist)[-100:]\n"
     ]
    }
   ],
   "source": [
    "cd .."
   ]
  },
  {
   "cell_type": "code",
   "execution_count": 3,
   "metadata": {},
   "outputs": [
    {
     "data": {
      "text/plain": [
       "'/Users/wliao0504/code/clif/CLIF-MIMIC'"
      ]
     },
     "execution_count": 3,
     "metadata": {},
     "output_type": "execute_result"
    }
   ],
   "source": [
    "pwd"
   ]
  },
  {
   "cell_type": "code",
   "execution_count": 5,
   "metadata": {},
   "outputs": [
    {
     "name": "stdout",
     "output_type": "stream",
     "text": [
      "loaded configuration from /Users/wliao0504/code/clif/CLIF-MIMIC/src/../config/config.json\n",
      "loaded configuration from /Users/wliao0504/code/clif/CLIF-MIMIC/src/../config/config.json\n"
     ]
    }
   ],
   "source": [
    "# src/tables/patient.py\n",
    "import numpy as np\n",
    "import pandas as pd\n",
    "import duckdb\n",
    "import logging\n",
    "from importlib import reload\n",
    "import src.utils\n",
    "reload(src.utils)\n",
    "from src.utils import construct_mapper_dict, load_mapping_csv, \\\n",
    "    rename_and_reorder_cols, save_to_rclif, setup_logging, mimic_table_pathfinder,  \\\n",
    "    clif_table_pathfinder, read_from_rclif"
   ]
  },
  {
   "cell_type": "code",
   "execution_count": 6,
   "metadata": {},
   "outputs": [],
   "source": [
    "adt = read_from_rclif(\"adt\")"
   ]
  },
  {
   "cell_type": "code",
   "execution_count": 7,
   "metadata": {},
   "outputs": [
    {
     "data": {
      "text/html": [
       "<div>\n",
       "<style scoped>\n",
       "    .dataframe tbody tr th:only-of-type {\n",
       "        vertical-align: middle;\n",
       "    }\n",
       "\n",
       "    .dataframe tbody tr th {\n",
       "        vertical-align: top;\n",
       "    }\n",
       "\n",
       "    .dataframe thead th {\n",
       "        text-align: right;\n",
       "    }\n",
       "</style>\n",
       "<table border=\"1\" class=\"dataframe\">\n",
       "  <thead>\n",
       "    <tr style=\"text-align: right;\">\n",
       "      <th></th>\n",
       "      <th>patient_id</th>\n",
       "      <th>hospitalization_id</th>\n",
       "      <th>hospital_id</th>\n",
       "      <th>in_dttm</th>\n",
       "      <th>out_dttm</th>\n",
       "      <th>location_name</th>\n",
       "      <th>location_category</th>\n",
       "      <th>location_type</th>\n",
       "    </tr>\n",
       "  </thead>\n",
       "  <tbody>\n",
       "    <tr>\n",
       "      <th>0</th>\n",
       "      <td>10000032</td>\n",
       "      <td>22595853</td>\n",
       "      <td>&lt;NA&gt;</td>\n",
       "      <td>2180-05-07 00:17:00+00:00</td>\n",
       "      <td>2180-05-07 04:30:00+00:00</td>\n",
       "      <td>Emergency Department</td>\n",
       "      <td>ed</td>\n",
       "      <td>None</td>\n",
       "    </tr>\n",
       "    <tr>\n",
       "      <th>1</th>\n",
       "      <td>10000032</td>\n",
       "      <td>22595853</td>\n",
       "      <td>&lt;NA&gt;</td>\n",
       "      <td>2180-05-07 04:30:00+00:00</td>\n",
       "      <td>2180-05-07 22:21:27+00:00</td>\n",
       "      <td>Transplant</td>\n",
       "      <td>ward</td>\n",
       "      <td>None</td>\n",
       "    </tr>\n",
       "    <tr>\n",
       "      <th>2</th>\n",
       "      <td>10000032</td>\n",
       "      <td>22841357</td>\n",
       "      <td>&lt;NA&gt;</td>\n",
       "      <td>2180-06-27 02:31:00+00:00</td>\n",
       "      <td>2180-06-27 23:49:12+00:00</td>\n",
       "      <td>Transplant</td>\n",
       "      <td>ward</td>\n",
       "      <td>None</td>\n",
       "    </tr>\n",
       "    <tr>\n",
       "      <th>3</th>\n",
       "      <td>10000032</td>\n",
       "      <td>22841357</td>\n",
       "      <td>&lt;NA&gt;</td>\n",
       "      <td>2180-06-26 20:54:00+00:00</td>\n",
       "      <td>2180-06-27 02:31:00+00:00</td>\n",
       "      <td>Emergency Department</td>\n",
       "      <td>ed</td>\n",
       "      <td>None</td>\n",
       "    </tr>\n",
       "    <tr>\n",
       "      <th>4</th>\n",
       "      <td>10000032</td>\n",
       "      <td>25742920</td>\n",
       "      <td>&lt;NA&gt;</td>\n",
       "      <td>2180-08-06 06:44:00+00:00</td>\n",
       "      <td>2180-08-07 22:50:44+00:00</td>\n",
       "      <td>Transplant</td>\n",
       "      <td>ward</td>\n",
       "      <td>None</td>\n",
       "    </tr>\n",
       "    <tr>\n",
       "      <th>...</th>\n",
       "      <td>...</td>\n",
       "      <td>...</td>\n",
       "      <td>...</td>\n",
       "      <td>...</td>\n",
       "      <td>...</td>\n",
       "      <td>...</td>\n",
       "      <td>...</td>\n",
       "      <td>...</td>\n",
       "    </tr>\n",
       "    <tr>\n",
       "      <th>1458403</th>\n",
       "      <td>19999840</td>\n",
       "      <td>26071774</td>\n",
       "      <td>&lt;NA&gt;</td>\n",
       "      <td>2164-07-25 02:16:00+00:00</td>\n",
       "      <td>2164-07-25 06:20:00+00:00</td>\n",
       "      <td>Emergency Department</td>\n",
       "      <td>ed</td>\n",
       "      <td>None</td>\n",
       "    </tr>\n",
       "    <tr>\n",
       "      <th>1458404</th>\n",
       "      <td>19999840</td>\n",
       "      <td>26071774</td>\n",
       "      <td>&lt;NA&gt;</td>\n",
       "      <td>2164-07-25 06:20:00+00:00</td>\n",
       "      <td>2164-07-28 17:22:30+00:00</td>\n",
       "      <td>Neurology</td>\n",
       "      <td>ward</td>\n",
       "      <td>None</td>\n",
       "    </tr>\n",
       "    <tr>\n",
       "      <th>1458405</th>\n",
       "      <td>19999987</td>\n",
       "      <td>23865745</td>\n",
       "      <td>&lt;NA&gt;</td>\n",
       "      <td>2145-11-05 02:29:30+00:00</td>\n",
       "      <td>2145-11-11 18:00:47+00:00</td>\n",
       "      <td>Neurology</td>\n",
       "      <td>ward</td>\n",
       "      <td>None</td>\n",
       "    </tr>\n",
       "    <tr>\n",
       "      <th>1458406</th>\n",
       "      <td>19999987</td>\n",
       "      <td>23865745</td>\n",
       "      <td>&lt;NA&gt;</td>\n",
       "      <td>2145-11-03 00:28:00+00:00</td>\n",
       "      <td>2145-11-03 03:59:00+00:00</td>\n",
       "      <td>Emergency Department</td>\n",
       "      <td>ed</td>\n",
       "      <td>None</td>\n",
       "    </tr>\n",
       "    <tr>\n",
       "      <th>1458407</th>\n",
       "      <td>19999987</td>\n",
       "      <td>23865745</td>\n",
       "      <td>&lt;NA&gt;</td>\n",
       "      <td>2145-11-03 03:59:00+00:00</td>\n",
       "      <td>2145-11-05 02:29:30+00:00</td>\n",
       "      <td>Trauma SICU (TSICU)</td>\n",
       "      <td>icu</td>\n",
       "      <td>surgical_icu</td>\n",
       "    </tr>\n",
       "  </tbody>\n",
       "</table>\n",
       "<p>1458408 rows × 8 columns</p>\n",
       "</div>"
      ],
      "text/plain": [
       "        patient_id hospitalization_id hospital_id                   in_dttm  \\\n",
       "0         10000032           22595853        <NA> 2180-05-07 00:17:00+00:00   \n",
       "1         10000032           22595853        <NA> 2180-05-07 04:30:00+00:00   \n",
       "2         10000032           22841357        <NA> 2180-06-27 02:31:00+00:00   \n",
       "3         10000032           22841357        <NA> 2180-06-26 20:54:00+00:00   \n",
       "4         10000032           25742920        <NA> 2180-08-06 06:44:00+00:00   \n",
       "...            ...                ...         ...                       ...   \n",
       "1458403   19999840           26071774        <NA> 2164-07-25 02:16:00+00:00   \n",
       "1458404   19999840           26071774        <NA> 2164-07-25 06:20:00+00:00   \n",
       "1458405   19999987           23865745        <NA> 2145-11-05 02:29:30+00:00   \n",
       "1458406   19999987           23865745        <NA> 2145-11-03 00:28:00+00:00   \n",
       "1458407   19999987           23865745        <NA> 2145-11-03 03:59:00+00:00   \n",
       "\n",
       "                         out_dttm         location_name location_category  \\\n",
       "0       2180-05-07 04:30:00+00:00  Emergency Department                ed   \n",
       "1       2180-05-07 22:21:27+00:00            Transplant              ward   \n",
       "2       2180-06-27 23:49:12+00:00            Transplant              ward   \n",
       "3       2180-06-27 02:31:00+00:00  Emergency Department                ed   \n",
       "4       2180-08-07 22:50:44+00:00            Transplant              ward   \n",
       "...                           ...                   ...               ...   \n",
       "1458403 2164-07-25 06:20:00+00:00  Emergency Department                ed   \n",
       "1458404 2164-07-28 17:22:30+00:00             Neurology              ward   \n",
       "1458405 2145-11-11 18:00:47+00:00             Neurology              ward   \n",
       "1458406 2145-11-03 03:59:00+00:00  Emergency Department                ed   \n",
       "1458407 2145-11-05 02:29:30+00:00   Trauma SICU (TSICU)               icu   \n",
       "\n",
       "        location_type  \n",
       "0                None  \n",
       "1                None  \n",
       "2                None  \n",
       "3                None  \n",
       "4                None  \n",
       "...               ...  \n",
       "1458403          None  \n",
       "1458404          None  \n",
       "1458405          None  \n",
       "1458406          None  \n",
       "1458407  surgical_icu  \n",
       "\n",
       "[1458408 rows x 8 columns]"
      ]
     },
     "execution_count": 7,
     "metadata": {},
     "output_type": "execute_result"
    }
   ],
   "source": [
    "adt"
   ]
  },
  {
   "cell_type": "code",
   "execution_count": null,
   "metadata": {},
   "outputs": [],
   "source": []
  }
 ],
 "metadata": {
  "kernelspec": {
   "display_name": ".venv",
   "language": "python",
   "name": "python3"
  },
  "language_info": {
   "codemirror_mode": {
    "name": "ipython",
    "version": 3
   },
   "file_extension": ".py",
   "mimetype": "text/x-python",
   "name": "python",
   "nbconvert_exporter": "python",
   "pygments_lexer": "ipython3",
   "version": "3.10.5"
  }
 },
 "nbformat": 4,
 "nbformat_minor": 2
}
