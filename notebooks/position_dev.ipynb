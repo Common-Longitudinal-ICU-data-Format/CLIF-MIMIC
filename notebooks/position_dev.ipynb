{
 "cells": [
  {
   "cell_type": "code",
   "execution_count": 3,
   "metadata": {},
   "outputs": [
    {
     "ename": "SyntaxError",
     "evalue": "invalid syntax (2078655017.py, line 1)",
     "output_type": "error",
     "traceback": [
      "\u001b[0;36m  Cell \u001b[0;32mIn[3], line 1\u001b[0;36m\u001b[0m\n\u001b[0;31m    cd ..\u001b[0m\n\u001b[0m        ^\u001b[0m\n\u001b[0;31mSyntaxError\u001b[0m\u001b[0;31m:\u001b[0m invalid syntax\n"
     ]
    }
   ],
   "source": [
    "cd .."
   ]
  },
  {
   "cell_type": "code",
   "execution_count": 4,
   "metadata": {},
   "outputs": [
    {
     "data": {
      "text/plain": [
       "'/Users/wliao0504/code/clif/CLIF-MIMIC'"
      ]
     },
     "execution_count": 4,
     "metadata": {},
     "output_type": "execute_result"
    }
   ],
   "source": [
    "pwd"
   ]
  },
  {
   "cell_type": "code",
   "execution_count": 38,
   "metadata": {},
   "outputs": [],
   "source": [
    "import pandas as pd\n",
    "import duckdb"
   ]
  },
  {
   "cell_type": "code",
   "execution_count": 12,
   "metadata": {},
   "outputs": [],
   "source": [
    "from src.utils import clif_table_pathfinder, mimic_table_pathfinder"
   ]
  },
  {
   "cell_type": "code",
   "execution_count": null,
   "metadata": {},
   "outputs": [],
   "source": [
    "pos = pd.read_parquet(clif_table_pathfinder(\"position\"))\n",
    "pos.value_counts([\"position_name\", \"position_category\"], dropna=False)"
   ]
  },
  {
   "cell_type": "code",
   "execution_count": 29,
   "metadata": {},
   "outputs": [
    {
     "data": {
      "text/plain": [
       "(Timestamp('2109-07-25 05:00:00+0000', tz='UTC'),\n",
       " Timestamp('2214-07-26 19:00:00+0000', tz='UTC'))"
      ]
     },
     "execution_count": 29,
     "metadata": {},
     "output_type": "execute_result"
    }
   ],
   "source": [
    "pos.recorded_dttm.min(), pos.recorded_dttm.max()"
   ]
  },
  {
   "cell_type": "code",
   "execution_count": 31,
   "metadata": {},
   "outputs": [
    {
     "data": {
      "text/html": [
       "<div>\n",
       "<style scoped>\n",
       "    .dataframe tbody tr th:only-of-type {\n",
       "        vertical-align: middle;\n",
       "    }\n",
       "\n",
       "    .dataframe tbody tr th {\n",
       "        vertical-align: top;\n",
       "    }\n",
       "\n",
       "    .dataframe thead th {\n",
       "        text-align: right;\n",
       "    }\n",
       "</style>\n",
       "<table border=\"1\" class=\"dataframe\">\n",
       "  <thead>\n",
       "    <tr style=\"text-align: right;\">\n",
       "      <th></th>\n",
       "      <th>hospitalization_id</th>\n",
       "      <th>recorded_dttm</th>\n",
       "      <th>position_name</th>\n",
       "      <th>position_category</th>\n",
       "    </tr>\n",
       "  </thead>\n",
       "  <tbody>\n",
       "    <tr>\n",
       "      <th>3033625</th>\n",
       "      <td>20880438</td>\n",
       "      <td>2109-07-25 05:00:00+00:00</td>\n",
       "      <td>Left Side</td>\n",
       "      <td>not_prone</td>\n",
       "    </tr>\n",
       "    <tr>\n",
       "      <th>95783</th>\n",
       "      <td>21838901</td>\n",
       "      <td>2109-08-22 05:00:00+00:00</td>\n",
       "      <td>Rotating</td>\n",
       "      <td>not_prone</td>\n",
       "    </tr>\n",
       "    <tr>\n",
       "      <th>2535900</th>\n",
       "      <td>24305596</td>\n",
       "      <td>2110-01-11 17:40:00+00:00</td>\n",
       "      <td>Supine</td>\n",
       "      <td>not_prone</td>\n",
       "    </tr>\n",
       "    <tr>\n",
       "      <th>2535901</th>\n",
       "      <td>24305596</td>\n",
       "      <td>2110-01-11 19:30:00+00:00</td>\n",
       "      <td>Left Side</td>\n",
       "      <td>not_prone</td>\n",
       "    </tr>\n",
       "    <tr>\n",
       "      <th>2535902</th>\n",
       "      <td>24305596</td>\n",
       "      <td>2110-01-11 21:00:00+00:00</td>\n",
       "      <td>Supine</td>\n",
       "      <td>not_prone</td>\n",
       "    </tr>\n",
       "    <tr>\n",
       "      <th>...</th>\n",
       "      <td>...</td>\n",
       "      <td>...</td>\n",
       "      <td>...</td>\n",
       "      <td>...</td>\n",
       "    </tr>\n",
       "    <tr>\n",
       "      <th>1622870</th>\n",
       "      <td>28006722</td>\n",
       "      <td>2214-07-26 11:00:00+00:00</td>\n",
       "      <td>Rotating</td>\n",
       "      <td>not_prone</td>\n",
       "    </tr>\n",
       "    <tr>\n",
       "      <th>1622876</th>\n",
       "      <td>28006722</td>\n",
       "      <td>2214-07-26 13:00:00+00:00</td>\n",
       "      <td>Rotating</td>\n",
       "      <td>not_prone</td>\n",
       "    </tr>\n",
       "    <tr>\n",
       "      <th>1622877</th>\n",
       "      <td>28006722</td>\n",
       "      <td>2214-07-26 15:00:00+00:00</td>\n",
       "      <td>Rotating</td>\n",
       "      <td>not_prone</td>\n",
       "    </tr>\n",
       "    <tr>\n",
       "      <th>1622878</th>\n",
       "      <td>28006722</td>\n",
       "      <td>2214-07-26 17:00:00+00:00</td>\n",
       "      <td>Sitting</td>\n",
       "      <td>not_prone</td>\n",
       "    </tr>\n",
       "    <tr>\n",
       "      <th>1622879</th>\n",
       "      <td>28006722</td>\n",
       "      <td>2214-07-26 19:00:00+00:00</td>\n",
       "      <td>Supine</td>\n",
       "      <td>not_prone</td>\n",
       "    </tr>\n",
       "  </tbody>\n",
       "</table>\n",
       "<p>3157996 rows × 4 columns</p>\n",
       "</div>"
      ],
      "text/plain": [
       "        hospitalization_id  ... position_category\n",
       "3033625           20880438  ...         not_prone\n",
       "95783             21838901  ...         not_prone\n",
       "2535900           24305596  ...         not_prone\n",
       "2535901           24305596  ...         not_prone\n",
       "2535902           24305596  ...         not_prone\n",
       "...                    ...  ...               ...\n",
       "1622870           28006722  ...         not_prone\n",
       "1622876           28006722  ...         not_prone\n",
       "1622877           28006722  ...         not_prone\n",
       "1622878           28006722  ...         not_prone\n",
       "1622879           28006722  ...         not_prone\n",
       "\n",
       "[3157996 rows x 4 columns]"
      ]
     },
     "execution_count": 31,
     "metadata": {},
     "output_type": "execute_result"
    }
   ],
   "source": [
    "pos.sort_values(\"recorded_dttm\", ascending=True)"
   ]
  },
  {
   "cell_type": "code",
   "execution_count": 13,
   "metadata": {},
   "outputs": [],
   "source": [
    "hosp = pd.read_parquet(clif_table_pathfinder(\"hospitalization\"))"
   ]
  },
  {
   "cell_type": "code",
   "execution_count": 14,
   "metadata": {},
   "outputs": [
    {
     "data": {
      "text/plain": [
       "Index(['patient_id', 'hospitalization_id', 'hospitalization_joined_id',\n",
       "       'admission_dttm', 'discharge_dttm', 'age_at_admission',\n",
       "       'admission_type_name', 'admission_type_category', 'discharge_name',\n",
       "       'discharge_category', 'zipcode_nine_digit', 'zipcode_five_digit',\n",
       "       'census_block_code', 'census_block_group_code', 'census_tract',\n",
       "       'state_code', 'county_code'],\n",
       "      dtype='object')"
      ]
     },
     "execution_count": 14,
     "metadata": {},
     "output_type": "execute_result"
    }
   ],
   "source": [
    "hosp.columns"
   ]
  },
  {
   "cell_type": "code",
   "execution_count": 34,
   "metadata": {},
   "outputs": [],
   "source": [
    "mimic_pat = pd.read_parquet(mimic_table_pathfinder(\"patients\"))"
   ]
  },
  {
   "cell_type": "code",
   "execution_count": 20,
   "metadata": {},
   "outputs": [
    {
     "data": {
      "text/html": [
       "<div>\n",
       "<style scoped>\n",
       "    .dataframe tbody tr th:only-of-type {\n",
       "        vertical-align: middle;\n",
       "    }\n",
       "\n",
       "    .dataframe tbody tr th {\n",
       "        vertical-align: top;\n",
       "    }\n",
       "\n",
       "    .dataframe thead th {\n",
       "        text-align: right;\n",
       "    }\n",
       "</style>\n",
       "<table border=\"1\" class=\"dataframe\">\n",
       "  <thead>\n",
       "    <tr style=\"text-align: right;\">\n",
       "      <th></th>\n",
       "      <th>subject_id</th>\n",
       "      <th>gender</th>\n",
       "      <th>anchor_age</th>\n",
       "      <th>anchor_year</th>\n",
       "      <th>anchor_year_group</th>\n",
       "      <th>dod</th>\n",
       "    </tr>\n",
       "  </thead>\n",
       "  <tbody>\n",
       "    <tr>\n",
       "      <th>0</th>\n",
       "      <td>10000032</td>\n",
       "      <td>F</td>\n",
       "      <td>52</td>\n",
       "      <td>2180</td>\n",
       "      <td>2014 - 2016</td>\n",
       "      <td>2180-09-09</td>\n",
       "    </tr>\n",
       "    <tr>\n",
       "      <th>1</th>\n",
       "      <td>10000048</td>\n",
       "      <td>F</td>\n",
       "      <td>23</td>\n",
       "      <td>2126</td>\n",
       "      <td>2008 - 2010</td>\n",
       "      <td>None</td>\n",
       "    </tr>\n",
       "    <tr>\n",
       "      <th>2</th>\n",
       "      <td>10000058</td>\n",
       "      <td>F</td>\n",
       "      <td>33</td>\n",
       "      <td>2168</td>\n",
       "      <td>2020 - 2022</td>\n",
       "      <td>None</td>\n",
       "    </tr>\n",
       "    <tr>\n",
       "      <th>3</th>\n",
       "      <td>10000068</td>\n",
       "      <td>F</td>\n",
       "      <td>19</td>\n",
       "      <td>2160</td>\n",
       "      <td>2008 - 2010</td>\n",
       "      <td>None</td>\n",
       "    </tr>\n",
       "    <tr>\n",
       "      <th>4</th>\n",
       "      <td>10000084</td>\n",
       "      <td>M</td>\n",
       "      <td>72</td>\n",
       "      <td>2160</td>\n",
       "      <td>2017 - 2019</td>\n",
       "      <td>2161-02-13</td>\n",
       "    </tr>\n",
       "    <tr>\n",
       "      <th>...</th>\n",
       "      <td>...</td>\n",
       "      <td>...</td>\n",
       "      <td>...</td>\n",
       "      <td>...</td>\n",
       "      <td>...</td>\n",
       "      <td>...</td>\n",
       "    </tr>\n",
       "    <tr>\n",
       "      <th>364622</th>\n",
       "      <td>19999828</td>\n",
       "      <td>F</td>\n",
       "      <td>46</td>\n",
       "      <td>2147</td>\n",
       "      <td>2017 - 2019</td>\n",
       "      <td>None</td>\n",
       "    </tr>\n",
       "    <tr>\n",
       "      <th>364623</th>\n",
       "      <td>19999829</td>\n",
       "      <td>F</td>\n",
       "      <td>28</td>\n",
       "      <td>2186</td>\n",
       "      <td>2008 - 2010</td>\n",
       "      <td>None</td>\n",
       "    </tr>\n",
       "    <tr>\n",
       "      <th>364624</th>\n",
       "      <td>19999840</td>\n",
       "      <td>M</td>\n",
       "      <td>58</td>\n",
       "      <td>2164</td>\n",
       "      <td>2008 - 2010</td>\n",
       "      <td>2164-09-17</td>\n",
       "    </tr>\n",
       "    <tr>\n",
       "      <th>364625</th>\n",
       "      <td>19999914</td>\n",
       "      <td>F</td>\n",
       "      <td>49</td>\n",
       "      <td>2158</td>\n",
       "      <td>2017 - 2019</td>\n",
       "      <td>None</td>\n",
       "    </tr>\n",
       "    <tr>\n",
       "      <th>364626</th>\n",
       "      <td>19999987</td>\n",
       "      <td>F</td>\n",
       "      <td>57</td>\n",
       "      <td>2145</td>\n",
       "      <td>2011 - 2013</td>\n",
       "      <td>None</td>\n",
       "    </tr>\n",
       "  </tbody>\n",
       "</table>\n",
       "<p>364627 rows × 6 columns</p>\n",
       "</div>"
      ],
      "text/plain": [
       "        subject_id gender  ...  anchor_year_group         dod\n",
       "0         10000032      F  ...        2014 - 2016  2180-09-09\n",
       "1         10000048      F  ...        2008 - 2010        None\n",
       "2         10000058      F  ...        2020 - 2022        None\n",
       "3         10000068      F  ...        2008 - 2010        None\n",
       "4         10000084      M  ...        2017 - 2019  2161-02-13\n",
       "...            ...    ...  ...                ...         ...\n",
       "364622    19999828      F  ...        2017 - 2019        None\n",
       "364623    19999829      F  ...        2008 - 2010        None\n",
       "364624    19999840      M  ...        2008 - 2010  2164-09-17\n",
       "364625    19999914      F  ...        2017 - 2019        None\n",
       "364626    19999987      F  ...        2011 - 2013        None\n",
       "\n",
       "[364627 rows x 6 columns]"
      ]
     },
     "execution_count": 20,
     "metadata": {},
     "output_type": "execute_result"
    }
   ],
   "source": [
    "mimic_pat"
   ]
  },
  {
   "cell_type": "code",
   "execution_count": 27,
   "metadata": {},
   "outputs": [
    {
     "data": {
      "text/plain": [
       "(np.int64(2110), np.int64(2208))"
      ]
     },
     "execution_count": 27,
     "metadata": {},
     "output_type": "execute_result"
    }
   ],
   "source": [
    "mimic_pat.anchor_year.min(), mimic_pat.anchor_year.max()"
   ]
  },
  {
   "cell_type": "code",
   "execution_count": 32,
   "metadata": {},
   "outputs": [
    {
     "data": {
      "text/html": [
       "<div>\n",
       "<style scoped>\n",
       "    .dataframe tbody tr th:only-of-type {\n",
       "        vertical-align: middle;\n",
       "    }\n",
       "\n",
       "    .dataframe tbody tr th {\n",
       "        vertical-align: top;\n",
       "    }\n",
       "\n",
       "    .dataframe thead th {\n",
       "        text-align: right;\n",
       "    }\n",
       "</style>\n",
       "<table border=\"1\" class=\"dataframe\">\n",
       "  <thead>\n",
       "    <tr style=\"text-align: right;\">\n",
       "      <th></th>\n",
       "      <th>subject_id</th>\n",
       "      <th>gender</th>\n",
       "      <th>anchor_age</th>\n",
       "      <th>anchor_year</th>\n",
       "      <th>anchor_year_group</th>\n",
       "      <th>dod</th>\n",
       "    </tr>\n",
       "  </thead>\n",
       "  <tbody>\n",
       "    <tr>\n",
       "      <th>0</th>\n",
       "      <td>10000032</td>\n",
       "      <td>F</td>\n",
       "      <td>52</td>\n",
       "      <td>2180</td>\n",
       "      <td>2014 - 2016</td>\n",
       "      <td>2180-09-09</td>\n",
       "    </tr>\n",
       "    <tr>\n",
       "      <th>32</th>\n",
       "      <td>10000904</td>\n",
       "      <td>F</td>\n",
       "      <td>22</td>\n",
       "      <td>2180</td>\n",
       "      <td>2011 - 2013</td>\n",
       "      <td>None</td>\n",
       "    </tr>\n",
       "    <tr>\n",
       "      <th>114</th>\n",
       "      <td>10002859</td>\n",
       "      <td>F</td>\n",
       "      <td>19</td>\n",
       "      <td>2180</td>\n",
       "      <td>2008 - 2010</td>\n",
       "      <td>None</td>\n",
       "    </tr>\n",
       "    <tr>\n",
       "      <th>208</th>\n",
       "      <td>10005475</td>\n",
       "      <td>M</td>\n",
       "      <td>20</td>\n",
       "      <td>2180</td>\n",
       "      <td>2014 - 2016</td>\n",
       "      <td>None</td>\n",
       "    </tr>\n",
       "    <tr>\n",
       "      <th>300</th>\n",
       "      <td>10008064</td>\n",
       "      <td>F</td>\n",
       "      <td>44</td>\n",
       "      <td>2180</td>\n",
       "      <td>2008 - 2010</td>\n",
       "      <td>None</td>\n",
       "    </tr>\n",
       "    <tr>\n",
       "      <th>...</th>\n",
       "      <td>...</td>\n",
       "      <td>...</td>\n",
       "      <td>...</td>\n",
       "      <td>...</td>\n",
       "      <td>...</td>\n",
       "      <td>...</td>\n",
       "    </tr>\n",
       "    <tr>\n",
       "      <th>364265</th>\n",
       "      <td>19990072</td>\n",
       "      <td>F</td>\n",
       "      <td>30</td>\n",
       "      <td>2180</td>\n",
       "      <td>2014 - 2016</td>\n",
       "      <td>None</td>\n",
       "    </tr>\n",
       "    <tr>\n",
       "      <th>364282</th>\n",
       "      <td>19990462</td>\n",
       "      <td>F</td>\n",
       "      <td>65</td>\n",
       "      <td>2180</td>\n",
       "      <td>2014 - 2016</td>\n",
       "      <td>None</td>\n",
       "    </tr>\n",
       "    <tr>\n",
       "      <th>364286</th>\n",
       "      <td>19990563</td>\n",
       "      <td>M</td>\n",
       "      <td>71</td>\n",
       "      <td>2180</td>\n",
       "      <td>2014 - 2016</td>\n",
       "      <td>None</td>\n",
       "    </tr>\n",
       "    <tr>\n",
       "      <th>364437</th>\n",
       "      <td>19994772</td>\n",
       "      <td>F</td>\n",
       "      <td>54</td>\n",
       "      <td>2180</td>\n",
       "      <td>2011 - 2013</td>\n",
       "      <td>2181-05-17</td>\n",
       "    </tr>\n",
       "    <tr>\n",
       "      <th>364470</th>\n",
       "      <td>19995550</td>\n",
       "      <td>F</td>\n",
       "      <td>67</td>\n",
       "      <td>2180</td>\n",
       "      <td>2008 - 2010</td>\n",
       "      <td>None</td>\n",
       "    </tr>\n",
       "  </tbody>\n",
       "</table>\n",
       "<p>4635 rows × 6 columns</p>\n",
       "</div>"
      ],
      "text/plain": [
       "        subject_id gender  ...  anchor_year_group         dod\n",
       "0         10000032      F  ...        2014 - 2016  2180-09-09\n",
       "32        10000904      F  ...        2011 - 2013        None\n",
       "114       10002859      F  ...        2008 - 2010        None\n",
       "208       10005475      M  ...        2014 - 2016        None\n",
       "300       10008064      F  ...        2008 - 2010        None\n",
       "...            ...    ...  ...                ...         ...\n",
       "364265    19990072      F  ...        2014 - 2016        None\n",
       "364282    19990462      F  ...        2014 - 2016        None\n",
       "364286    19990563      M  ...        2014 - 2016        None\n",
       "364437    19994772      F  ...        2011 - 2013  2181-05-17\n",
       "364470    19995550      F  ...        2008 - 2010        None\n",
       "\n",
       "[4635 rows x 6 columns]"
      ]
     },
     "execution_count": 32,
     "metadata": {},
     "output_type": "execute_result"
    }
   ],
   "source": [
    "mimic_pat.query(\"anchor_year == 2180\")"
   ]
  },
  {
   "cell_type": "code",
   "execution_count": 66,
   "metadata": {},
   "outputs": [
    {
     "name": "stdout",
     "output_type": "stream",
     "text": [
      "3157996 546028 364627 3157996\n"
     ]
    },
    {
     "data": {
      "text/html": [
       "<div>\n",
       "<style scoped>\n",
       "    .dataframe tbody tr th:only-of-type {\n",
       "        vertical-align: middle;\n",
       "    }\n",
       "\n",
       "    .dataframe tbody tr th {\n",
       "        vertical-align: top;\n",
       "    }\n",
       "\n",
       "    .dataframe thead th {\n",
       "        text-align: right;\n",
       "    }\n",
       "</style>\n",
       "<table border=\"1\" class=\"dataframe\">\n",
       "  <thead>\n",
       "    <tr style=\"text-align: right;\">\n",
       "      <th></th>\n",
       "      <th>hospitalization_id</th>\n",
       "      <th>recorded_dttm</th>\n",
       "      <th>position_name</th>\n",
       "      <th>position_category</th>\n",
       "      <th>patient_id</th>\n",
       "      <th>admission_dttm</th>\n",
       "      <th>age_at_admission</th>\n",
       "      <th>subject_id</th>\n",
       "      <th>anchor_year</th>\n",
       "      <th>anchor_year_group</th>\n",
       "      <th>year_diff</th>\n",
       "      <th>actual_start_year</th>\n",
       "      <th>actual_end_year</th>\n",
       "    </tr>\n",
       "  </thead>\n",
       "  <tbody>\n",
       "    <tr>\n",
       "      <th>0</th>\n",
       "      <td>20001361</td>\n",
       "      <td>2143-05-09 22:00:00-06:00</td>\n",
       "      <td>Supine</td>\n",
       "      <td>not_prone</td>\n",
       "      <td>14577567</td>\n",
       "      <td>2143-05-04 13:55:00-06:00</td>\n",
       "      <td>30</td>\n",
       "      <td>14577567</td>\n",
       "      <td>2143</td>\n",
       "      <td>2008 - 2010</td>\n",
       "      <td>1</td>\n",
       "      <td>2009</td>\n",
       "      <td>2011</td>\n",
       "    </tr>\n",
       "    <tr>\n",
       "      <th>1</th>\n",
       "      <td>20001361</td>\n",
       "      <td>2143-05-10 06:54:00-06:00</td>\n",
       "      <td>Supine</td>\n",
       "      <td>not_prone</td>\n",
       "      <td>14577567</td>\n",
       "      <td>2143-05-04 13:55:00-06:00</td>\n",
       "      <td>30</td>\n",
       "      <td>14577567</td>\n",
       "      <td>2143</td>\n",
       "      <td>2008 - 2010</td>\n",
       "      <td>1</td>\n",
       "      <td>2009</td>\n",
       "      <td>2011</td>\n",
       "    </tr>\n",
       "    <tr>\n",
       "      <th>2</th>\n",
       "      <td>20001361</td>\n",
       "      <td>2143-05-09 20:00:00-06:00</td>\n",
       "      <td>Left Side</td>\n",
       "      <td>not_prone</td>\n",
       "      <td>14577567</td>\n",
       "      <td>2143-05-04 13:55:00-06:00</td>\n",
       "      <td>30</td>\n",
       "      <td>14577567</td>\n",
       "      <td>2143</td>\n",
       "      <td>2008 - 2010</td>\n",
       "      <td>1</td>\n",
       "      <td>2009</td>\n",
       "      <td>2011</td>\n",
       "    </tr>\n",
       "    <tr>\n",
       "      <th>3</th>\n",
       "      <td>20001361</td>\n",
       "      <td>2143-05-04 16:23:00-06:00</td>\n",
       "      <td>Supine</td>\n",
       "      <td>not_prone</td>\n",
       "      <td>14577567</td>\n",
       "      <td>2143-05-04 13:55:00-06:00</td>\n",
       "      <td>30</td>\n",
       "      <td>14577567</td>\n",
       "      <td>2143</td>\n",
       "      <td>2008 - 2010</td>\n",
       "      <td>1</td>\n",
       "      <td>2009</td>\n",
       "      <td>2011</td>\n",
       "    </tr>\n",
       "    <tr>\n",
       "      <th>4</th>\n",
       "      <td>20001361</td>\n",
       "      <td>2143-05-05 03:53:00-06:00</td>\n",
       "      <td>Supine</td>\n",
       "      <td>not_prone</td>\n",
       "      <td>14577567</td>\n",
       "      <td>2143-05-04 13:55:00-06:00</td>\n",
       "      <td>30</td>\n",
       "      <td>14577567</td>\n",
       "      <td>2143</td>\n",
       "      <td>2008 - 2010</td>\n",
       "      <td>1</td>\n",
       "      <td>2009</td>\n",
       "      <td>2011</td>\n",
       "    </tr>\n",
       "  </tbody>\n",
       "</table>\n",
       "</div>"
      ],
      "text/plain": [
       "  hospitalization_id  ... actual_end_year\n",
       "0           20001361  ...            2011\n",
       "1           20001361  ...            2011\n",
       "2           20001361  ...            2011\n",
       "3           20001361  ...            2011\n",
       "4           20001361  ...            2011\n",
       "\n",
       "[5 rows x 13 columns]"
      ]
     },
     "execution_count": 66,
     "metadata": {},
     "output_type": "execute_result"
    }
   ],
   "source": [
    "query = \"\"\"\n",
    "SElECT\n",
    "    hosp.hospitalization_id,\n",
    "    recorded_dttm,\n",
    "    position_name,\n",
    "    position_category,\n",
    "    patient_id, \n",
    "    admission_dttm,\n",
    "    age_at_admission,\n",
    "    subject_id,\n",
    "    anchor_year,\n",
    "    anchor_year_group,\n",
    "    date_diff('year', make_date(anchor_year, 1, 1), recorded_dttm) as year_diff,\n",
    "    CAST(anchor_year_group[:4] AS INTEGER) + year_diff as actual_start_year,\n",
    "    CAST(anchor_year_group[:4] AS INTEGER) + year_diff + 2 as actual_end_year\n",
    "FROM pos \n",
    "LEFT JOIN hosp USING (hospitalization_id)\n",
    "LEFT JOIN mimic_pat pat ON hosp.patient_id = pat.subject_id\n",
    "ORDER BY actual_start_year, hospitalization_id\n",
    "\"\"\"\n",
    "df = duckdb.sql(query).df()\n",
    "print(len(pos), len(hosp), len(mimic_pat), len(df))\n",
    "df.head()"
   ]
  },
  {
   "cell_type": "code",
   "execution_count": 57,
   "metadata": {},
   "outputs": [
    {
     "data": {
      "text/plain": [
       "(np.int64(2009), np.int64(2024))"
      ]
     },
     "execution_count": 57,
     "metadata": {},
     "output_type": "execute_result"
    }
   ],
   "source": [
    "df.actual_start_year.min(), df.actual_start_year.max()"
   ]
  },
  {
   "cell_type": "code",
   "execution_count": null,
   "metadata": {},
   "outputs": [
    {
     "data": {
      "text/plain": [
       "position_name           position_category\n",
       "Right Side              not_prone            870992\n",
       "Supine                  not_prone            865194\n",
       "Left Side               not_prone            857298\n",
       "Rotating                not_prone            390553\n",
       "Sitting                 not_prone            157498\n",
       "Prone                   prone                  8425\n",
       "Reverse T-berg          not_prone              3147\n",
       "Swimmers Position - L   not_prone              2591\n",
       "Swimmers Position - R   not_prone              2298\n",
       "Name: count, dtype: int64"
      ]
     },
     "execution_count": 60,
     "metadata": {},
     "output_type": "execute_result"
    }
   ],
   "source": [
    "# in the current CLIF-MIIMC position table\n",
    "df.value_counts([\"position_name\", \"position_category\"], dropna=False)"
   ]
  },
  {
   "cell_type": "code",
   "execution_count": 72,
   "metadata": {},
   "outputs": [
    {
     "data": {
      "text/plain": [
       "actual_start_year\n",
       "2009                  470\n",
       "2010                  160\n",
       "2011                   96\n",
       "2012                  442\n",
       "2013                  117\n",
       "2014                   67\n",
       "2015                  376\n",
       "2016                  104\n",
       "2017                   61\n",
       "2018                  691\n",
       "2019                  385\n",
       "2020                  571\n",
       "2021                 4292\n",
       "2022                  469\n",
       "2023                  124\n",
       "Name: count, dtype: int64"
      ]
     },
     "execution_count": 72,
     "metadata": {},
     "output_type": "execute_result"
    }
   ],
   "source": [
    "# actual_start_year = 2021 would mean any time in the 2021-2023 window that MIMIC has blurred \n",
    "prone = df.query(\"position_category == 'prone'\")\n",
    "prone.value_counts([\"actual_start_year\"], dropna=False, sort=False)"
   ]
  },
  {
   "cell_type": "code",
   "execution_count": 73,
   "metadata": {},
   "outputs": [
    {
     "data": {
      "text/html": [
       "<div>\n",
       "<style scoped>\n",
       "    .dataframe tbody tr th:only-of-type {\n",
       "        vertical-align: middle;\n",
       "    }\n",
       "\n",
       "    .dataframe tbody tr th {\n",
       "        vertical-align: top;\n",
       "    }\n",
       "\n",
       "    .dataframe thead th {\n",
       "        text-align: right;\n",
       "    }\n",
       "</style>\n",
       "<table border=\"1\" class=\"dataframe\">\n",
       "  <thead>\n",
       "    <tr style=\"text-align: right;\">\n",
       "      <th></th>\n",
       "      <th>subject_id</th>\n",
       "      <th>gender</th>\n",
       "      <th>anchor_age</th>\n",
       "      <th>anchor_year</th>\n",
       "      <th>anchor_year_group</th>\n",
       "      <th>dod</th>\n",
       "    </tr>\n",
       "  </thead>\n",
       "  <tbody>\n",
       "    <tr>\n",
       "      <th>166128</th>\n",
       "      <td>14577567</td>\n",
       "      <td>M</td>\n",
       "      <td>30</td>\n",
       "      <td>2143</td>\n",
       "      <td>2008 - 2010</td>\n",
       "      <td>None</td>\n",
       "    </tr>\n",
       "  </tbody>\n",
       "</table>\n",
       "</div>"
      ],
      "text/plain": [
       "        subject_id gender  anchor_age  anchor_year anchor_year_group   dod\n",
       "166128    14577567      M          30         2143       2008 - 2010  None"
      ]
     },
     "execution_count": 73,
     "metadata": {},
     "output_type": "execute_result"
    }
   ],
   "source": [
    "mimic_pat.query(\"subject_id == 14577567\")"
   ]
  }
 ],
 "metadata": {
  "kernelspec": {
   "display_name": ".venv",
   "language": "python",
   "name": "python3"
  },
  "language_info": {
   "codemirror_mode": {
    "name": "ipython",
    "version": 3
   },
   "file_extension": ".py",
   "mimetype": "text/x-python",
   "name": "python",
   "nbconvert_exporter": "python",
   "pygments_lexer": "ipython3",
   "version": "3.10.5"
  }
 },
 "nbformat": 4,
 "nbformat_minor": 2
}
