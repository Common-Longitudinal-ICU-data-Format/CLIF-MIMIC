{
 "cells": [
  {
   "cell_type": "markdown",
   "metadata": {},
   "source": [
    "# Init"
   ]
  },
  {
   "cell_type": "code",
   "execution_count": 11,
   "metadata": {},
   "outputs": [
    {
     "data": {
      "text/plain": [
       "'/Users/wliao0504/code/clif'"
      ]
     },
     "execution_count": 11,
     "metadata": {},
     "output_type": "execute_result"
    }
   ],
   "source": [
    "import os\n",
    "os.chdir('..')\n",
    "os.getcwd()"
   ]
  },
  {
   "cell_type": "code",
   "execution_count": 12,
   "metadata": {},
   "outputs": [],
   "source": [
    "import numpy as np\n",
    "import pandas as pd\n",
    "import logging\n",
    "import duckdb\n",
    "import pandera as pa\n",
    "from importlib import reload\n",
    "import src.utils as utils\n",
    "from typing import Dict, List\n",
    "# reload(utils)\n",
    "from src.utils import construct_mapper_dict, fetch_mimic_events, load_mapping_csv, \\\n",
    "    get_relevant_item_ids, find_duplicates, rename_and_reorder_cols, save_to_rclif, \\\n",
    "    convert_and_sort_datetime, setup_logging, con, REPO_ROOT, mimic_table_pathfinder, \\\n",
    "    search_mimic_items, read_from_rclif\n",
    "from src.utils_qa import all_null_check"
   ]
  },
  {
   "cell_type": "markdown",
   "metadata": {},
   "source": [
    "# Dev"
   ]
  },
  {
   "cell_type": "code",
   "execution_count": 18,
   "metadata": {},
   "outputs": [
    {
     "name": "stderr",
     "output_type": "stream",
     "text": [
      "2025-05-12 22:57:47,466 - INFO - initialized logging at logs/etl.log\n"
     ]
    },
    {
     "data": {
      "text/plain": [
       "<module 'src.tables.ecmo_mcs' from '/Users/wliao0504/code/clif/CLIF-MIMIC/src/tables/ecmo_mcs.py'>"
      ]
     },
     "execution_count": 18,
     "metadata": {},
     "output_type": "execute_result"
    }
   ],
   "source": [
    "import src.tables.ecmo_mcs as ecmo_mcs\n",
    "reload(ecmo_mcs)"
   ]
  },
  {
   "cell_type": "code",
   "execution_count": 9,
   "metadata": {},
   "outputs": [
    {
     "name": "stderr",
     "output_type": "stream",
     "text": [
      "2025-05-12 22:07:16,583 - INFO - starting to build clif ecmo_mcs table -- \n",
      "2025-05-12 22:07:16,584 - INFO - initialized logging at logs/etl.log\n",
      "2025-05-12 22:07:16,598 - INFO - parsing the mapping files to identify relevant items and fetch corresponding events...\n",
      "2025-05-12 22:07:16,600 - INFO - querying the d_items table to identify which event tables to be separately queried for 228 items\n",
      "2025-05-12 22:07:16,604 - INFO - identified 3 event tables to be separately queried: ['chartevents', 'datetimeevents', 'procedureevents']\n",
      "2025-05-12 22:07:16,605 - INFO - fetching events from chartevents table for 203 items\n",
      "2025-05-12 22:07:19,044 - INFO - fetched 1159127 events from chartevents table for 203 items\n",
      "2025-05-12 22:07:19,044 - INFO - fetching events from datetimeevents table for 16 items\n",
      "2025-05-12 22:07:19,044 - WARNING - datetimeevents not yet supported, thus returning all columns\n",
      "2025-05-12 22:07:19,136 - INFO - fetched 41872 events from datetimeevents table for 16 items\n",
      "2025-05-12 22:07:19,137 - INFO - fetching events from procedureevents table for 9 items\n",
      "2025-05-12 22:07:19,146 - INFO - fetched 1570 events from procedureevents table for 9 items\n",
      "2025-05-12 22:07:19,223 - INFO - concatenated 1202569 events from 3 event table(s)\n",
      "2025-05-12 22:07:19,336 - INFO - identified 570 'duplicated' events to be cleaned.\n",
      "2025-05-12 22:07:19,935 - INFO - cleaning up column names and data types...\n",
      "2025-05-12 22:07:20,164 - INFO - saving to rclif...\n",
      "2025-05-12 22:07:20,164 - INFO - saving ecmo_mcs rclif table as a parquet file at /Users/wliao0504/code/clif/CLIF-MIMIC/src/../output/rclif-dev-test/clif_ecmo_mcs.parquet.\n",
      "2025-05-12 22:07:20,205 - INFO - output saved to a parquet file, everything completed for the ecmo_mcs table!\n"
     ]
    }
   ],
   "source": [
    "ecmo_mcs._main()"
   ]
  },
  {
   "cell_type": "code",
   "execution_count": 19,
   "metadata": {},
   "outputs": [
    {
     "name": "stderr",
     "output_type": "stream",
     "text": [
      "2025-05-12 22:57:49,231 - INFO - testing all...\n",
      "2025-05-12 22:57:49,233 - INFO - initialized logging at logs/etl.log\n",
      "2025-05-12 22:57:49,239 - INFO - parsing the mapping files to identify relevant items and fetch corresponding events...\n",
      "2025-05-12 22:57:49,241 - INFO - querying the d_items table to identify which event tables to be separately queried for 228 items\n",
      "2025-05-12 22:57:49,246 - INFO - identified 3 event tables to be separately queried: ['chartevents', 'datetimeevents', 'procedureevents']\n",
      "2025-05-12 22:57:49,246 - INFO - fetching events from chartevents table for 203 items\n",
      "2025-05-12 22:57:52,043 - INFO - fetched 1159127 events from chartevents table for 203 items\n",
      "2025-05-12 22:57:52,046 - INFO - fetching events from datetimeevents table for 16 items\n",
      "2025-05-12 22:57:52,047 - WARNING - datetimeevents not yet supported, thus returning all columns\n",
      "2025-05-12 22:57:52,145 - INFO - fetched 41872 events from datetimeevents table for 16 items\n",
      "2025-05-12 22:57:52,146 - INFO - fetching events from procedureevents table for 9 items\n",
      "2025-05-12 22:57:52,158 - INFO - fetched 1570 events from procedureevents table for 9 items\n",
      "2025-05-12 22:57:52,230 - INFO - concatenated 1202569 events from 3 event table(s)\n",
      "2025-05-12 22:57:52,336 - INFO - identified 570 'duplicated' events to be cleaned.\n",
      "2025-05-12 22:57:52,860 - INFO - cleaning up column names and data types...\n"
     ]
    },
    {
     "name": "stdout",
     "output_type": "stream",
     "text": [
      "{'schema_tested': True}\n"
     ]
    }
   ],
   "source": [
    "test_out = ecmo_mcs._test()"
   ]
  },
  {
   "cell_type": "code",
   "execution_count": 13,
   "metadata": {},
   "outputs": [],
   "source": [
    "clif_ecmo = read_from_rclif(\"ecmo_mcs\")"
   ]
  },
  {
   "cell_type": "code",
   "execution_count": null,
   "metadata": {},
   "outputs": [],
   "source": [
    "clif_ecmo"
   ]
  },
  {
   "cell_type": "markdown",
   "metadata": {},
   "source": [
    "# Validate"
   ]
  },
  {
   "cell_type": "markdown",
   "metadata": {},
   "source": []
  }
 ],
 "metadata": {
  "kernelspec": {
   "display_name": ".venv",
   "language": "python",
   "name": "python3"
  },
  "language_info": {
   "codemirror_mode": {
    "name": "ipython",
    "version": 3
   },
   "file_extension": ".py",
   "mimetype": "text/x-python",
   "name": "python",
   "nbconvert_exporter": "python",
   "pygments_lexer": "ipython3",
   "version": "3.10.5"
  }
 },
 "nbformat": 4,
 "nbformat_minor": 2
}
