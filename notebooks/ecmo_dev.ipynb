{
 "cells": [
  {
   "cell_type": "markdown",
   "metadata": {},
   "source": [
    "# Init"
   ]
  },
  {
   "cell_type": "code",
   "execution_count": 1,
   "metadata": {},
   "outputs": [
    {
     "data": {
      "text/plain": [
       "'/Users/wliao0504/code/clif/CLIF-MIMIC'"
      ]
     },
     "execution_count": 1,
     "metadata": {},
     "output_type": "execute_result"
    }
   ],
   "source": [
    "import os\n",
    "os.chdir('..')\n",
    "os.getcwd()"
   ]
  },
  {
   "cell_type": "code",
   "execution_count": 2,
   "metadata": {},
   "outputs": [
    {
     "name": "stdout",
     "output_type": "stream",
     "text": [
      "loaded configuration from /Users/wliao0504/code/clif/CLIF-MIMIC/src/../config/config.json\n"
     ]
    }
   ],
   "source": [
    "import numpy as np\n",
    "import pandas as pd\n",
    "import logging\n",
    "import duckdb\n",
    "import pandera as pa\n",
    "from importlib import reload\n",
    "import src.utils as utils\n",
    "from typing import Dict, List\n",
    "# reload(utils)\n",
    "from src.utils import construct_mapper_dict, fetch_mimic_events, load_mapping_csv, \\\n",
    "    get_relevant_item_ids, find_duplicates, rename_and_reorder_cols, save_to_rclif, \\\n",
    "    convert_and_sort_datetime, setup_logging, con, REPO_ROOT, mimic_table_pathfinder, \\\n",
    "    search_mimic_items, read_from_rclif\n",
    "from src.utils_qa import all_null_check"
   ]
  },
  {
   "cell_type": "markdown",
   "metadata": {},
   "source": [
    "# Dev"
   ]
  },
  {
   "cell_type": "code",
   "execution_count": 3,
   "metadata": {},
   "outputs": [
    {
     "name": "stderr",
     "output_type": "stream",
     "text": [
      "2025-05-13 12:09:52,418 - INFO - initialized logging at logs/etl.log\n",
      "2025-05-13 12:09:52,420 - INFO - initialized logging at logs/etl.log\n"
     ]
    },
    {
     "data": {
      "text/plain": [
       "<module 'src.tables.ecmo_mcs' from '/Users/wliao0504/code/clif/CLIF-MIMIC/src/tables/ecmo_mcs.py'>"
      ]
     },
     "execution_count": 3,
     "metadata": {},
     "output_type": "execute_result"
    }
   ],
   "source": [
    "import src.tables.ecmo_mcs as ecmo_mcs\n",
    "reload(ecmo_mcs)"
   ]
  },
  {
   "cell_type": "code",
   "execution_count": 4,
   "metadata": {},
   "outputs": [
    {
     "name": "stderr",
     "output_type": "stream",
     "text": [
      "2025-05-13 12:09:52,424 - INFO - starting to build clif ecmo_mcs table -- \n",
      "2025-05-13 12:09:52,443 - INFO - initialized logging at logs/etl.log\n",
      "2025-05-13 12:09:52,444 - INFO - Note: Hamilton collects completely anonymous data about usage. This will help us improve Hamilton over time. See https://hamilton.dagworks.io/en/latest/get-started/license/#usage-analytics-data-privacy for details.\n",
      "2025-05-13 12:09:52,451 - INFO - parsing the mapping files to identify relevant items and fetch corresponding events...\n",
      "2025-05-13 12:09:52,452 - INFO - querying the d_items table to identify which event tables to be separately queried for 228 items\n",
      "2025-05-13 12:09:52,456 - INFO - identified 3 event tables to be separately queried: ['chartevents', 'datetimeevents', 'procedureevents']\n",
      "2025-05-13 12:09:52,456 - INFO - fetching events from chartevents table for 203 items\n",
      "2025-05-13 12:09:55,193 - INFO - fetched 1159127 events from chartevents table for 203 items\n",
      "2025-05-13 12:09:55,194 - INFO - fetching events from datetimeevents table for 16 items\n",
      "2025-05-13 12:09:55,194 - WARNING - datetimeevents not yet supported, thus returning all columns\n",
      "2025-05-13 12:09:55,289 - INFO - fetched 41872 events from datetimeevents table for 16 items\n",
      "2025-05-13 12:09:55,289 - INFO - fetching events from procedureevents table for 9 items\n",
      "2025-05-13 12:09:55,301 - INFO - fetched 1570 events from procedureevents table for 9 items\n",
      "2025-05-13 12:09:55,384 - INFO - concatenated 1202569 events from 3 event table(s)\n",
      "2025-05-13 12:09:55,478 - INFO - identified 570 'duplicated' events to be cleaned.\n",
      "2025-05-13 12:09:55,979 - INFO - cleaning up column names and data types...\n",
      "2025-05-13 12:09:56,192 - INFO - saving to rclif...\n",
      "2025-05-13 12:09:56,192 - INFO - saving ecmo_mcs rclif table as a parquet file at /Users/wliao0504/code/clif/CLIF-MIMIC/src/../output/rclif-dev-test/clif_ecmo_mcs.parquet.\n",
      "2025-05-13 12:09:56,226 - INFO - output saved to a parquet file, everything completed for the ecmo_mcs table!\n"
     ]
    }
   ],
   "source": [
    "ecmo_mcs._main()"
   ]
  },
  {
   "cell_type": "code",
   "execution_count": 5,
   "metadata": {},
   "outputs": [
    {
     "name": "stderr",
     "output_type": "stream",
     "text": [
      "2025-05-13 12:09:56,234 - INFO - testing all...\n",
      "2025-05-13 12:09:56,235 - INFO - initialized logging at logs/etl.log\n",
      "2025-05-13 12:09:56,249 - INFO - parsing the mapping files to identify relevant items and fetch corresponding events...\n",
      "2025-05-13 12:09:56,250 - INFO - querying the d_items table to identify which event tables to be separately queried for 228 items\n",
      "2025-05-13 12:09:56,255 - INFO - identified 3 event tables to be separately queried: ['chartevents', 'datetimeevents', 'procedureevents']\n",
      "2025-05-13 12:09:56,255 - INFO - fetching events from chartevents table for 203 items\n",
      "2025-05-13 12:09:58,554 - INFO - fetched 1159127 events from chartevents table for 203 items\n",
      "2025-05-13 12:09:58,554 - INFO - fetching events from datetimeevents table for 16 items\n",
      "2025-05-13 12:09:58,554 - WARNING - datetimeevents not yet supported, thus returning all columns\n",
      "2025-05-13 12:09:58,652 - INFO - fetched 41872 events from datetimeevents table for 16 items\n",
      "2025-05-13 12:09:58,653 - INFO - fetching events from procedureevents table for 9 items\n",
      "2025-05-13 12:09:58,661 - INFO - fetched 1570 events from procedureevents table for 9 items\n",
      "2025-05-13 12:09:58,721 - INFO - concatenated 1202569 events from 3 event table(s)\n",
      "2025-05-13 12:09:58,826 - INFO - identified 570 'duplicated' events to be cleaned.\n",
      "2025-05-13 12:09:59,398 - INFO - cleaning up column names and data types...\n"
     ]
    },
    {
     "name": "stdout",
     "output_type": "stream",
     "text": [
      "{'schema_tested': True}\n"
     ]
    }
   ],
   "source": [
    "test_out = ecmo_mcs._test()"
   ]
  },
  {
   "cell_type": "code",
   "execution_count": 6,
   "metadata": {},
   "outputs": [],
   "source": [
    "clif_ecmo = read_from_rclif(\"ecmo_mcs\")"
   ]
  },
  {
   "cell_type": "code",
   "execution_count": 7,
   "metadata": {},
   "outputs": [
    {
     "data": {
      "text/html": [
       "<div>\n",
       "<style scoped>\n",
       "    .dataframe tbody tr th:only-of-type {\n",
       "        vertical-align: middle;\n",
       "    }\n",
       "\n",
       "    .dataframe tbody tr th {\n",
       "        vertical-align: top;\n",
       "    }\n",
       "\n",
       "    .dataframe thead th {\n",
       "        text-align: right;\n",
       "    }\n",
       "</style>\n",
       "<table border=\"1\" class=\"dataframe\">\n",
       "  <thead>\n",
       "    <tr style=\"text-align: right;\">\n",
       "      <th></th>\n",
       "      <th>hospitalization_id</th>\n",
       "      <th>recorded_dttm</th>\n",
       "      <th>device_name</th>\n",
       "      <th>device_category</th>\n",
       "      <th>mcs_group</th>\n",
       "      <th>side</th>\n",
       "      <th>device_metric_name</th>\n",
       "      <th>device_rate</th>\n",
       "      <th>flow</th>\n",
       "      <th>sweep</th>\n",
       "      <th>fdo2</th>\n",
       "    </tr>\n",
       "  </thead>\n",
       "  <tbody>\n",
       "    <tr>\n",
       "      <th>0</th>\n",
       "      <td>20044789</td>\n",
       "      <td>2180-08-20 01:00:00+00:00</td>\n",
       "      <td>VV</td>\n",
       "      <td>Other</td>\n",
       "      <td>ECMO</td>\n",
       "      <td>right</td>\n",
       "      <td>RPM</td>\n",
       "      <td>3400.0</td>\n",
       "      <td>3.20</td>\n",
       "      <td>3.0</td>\n",
       "      <td>100.0</td>\n",
       "    </tr>\n",
       "    <tr>\n",
       "      <th>1</th>\n",
       "      <td>20044789</td>\n",
       "      <td>2180-08-20 02:00:00+00:00</td>\n",
       "      <td>VV</td>\n",
       "      <td>Other</td>\n",
       "      <td>ECMO</td>\n",
       "      <td>right</td>\n",
       "      <td>RPM</td>\n",
       "      <td>3900.0</td>\n",
       "      <td>3.71</td>\n",
       "      <td>3.0</td>\n",
       "      <td>100.0</td>\n",
       "    </tr>\n",
       "    <tr>\n",
       "      <th>2</th>\n",
       "      <td>20044789</td>\n",
       "      <td>2180-08-20 02:30:00+00:00</td>\n",
       "      <td>VV</td>\n",
       "      <td>Other</td>\n",
       "      <td>ECMO</td>\n",
       "      <td>right</td>\n",
       "      <td>RPM</td>\n",
       "      <td>4000.0</td>\n",
       "      <td>3.84</td>\n",
       "      <td>NaN</td>\n",
       "      <td>NaN</td>\n",
       "    </tr>\n",
       "    <tr>\n",
       "      <th>3</th>\n",
       "      <td>20044789</td>\n",
       "      <td>2180-08-20 03:00:00+00:00</td>\n",
       "      <td>VV</td>\n",
       "      <td>Other</td>\n",
       "      <td>ECMO</td>\n",
       "      <td>right</td>\n",
       "      <td>RPM</td>\n",
       "      <td>4000.0</td>\n",
       "      <td>3.80</td>\n",
       "      <td>3.0</td>\n",
       "      <td>100.0</td>\n",
       "    </tr>\n",
       "    <tr>\n",
       "      <th>4</th>\n",
       "      <td>20044789</td>\n",
       "      <td>2180-08-20 04:00:00+00:00</td>\n",
       "      <td>VV</td>\n",
       "      <td>Other</td>\n",
       "      <td>ECMO</td>\n",
       "      <td>right</td>\n",
       "      <td>RPM</td>\n",
       "      <td>4000.0</td>\n",
       "      <td>3.77</td>\n",
       "      <td>3.0</td>\n",
       "      <td>100.0</td>\n",
       "    </tr>\n",
       "    <tr>\n",
       "      <th>...</th>\n",
       "      <td>...</td>\n",
       "      <td>...</td>\n",
       "      <td>...</td>\n",
       "      <td>...</td>\n",
       "      <td>...</td>\n",
       "      <td>...</td>\n",
       "      <td>...</td>\n",
       "      <td>...</td>\n",
       "      <td>...</td>\n",
       "      <td>...</td>\n",
       "      <td>...</td>\n",
       "    </tr>\n",
       "    <tr>\n",
       "      <th>93394</th>\n",
       "      <td>29984509</td>\n",
       "      <td>2158-11-01 13:00:00+00:00</td>\n",
       "      <td>&lt;NA&gt;</td>\n",
       "      <td>Other</td>\n",
       "      <td>None</td>\n",
       "      <td>None</td>\n",
       "      <td>RPM</td>\n",
       "      <td>5600.0</td>\n",
       "      <td>5.20</td>\n",
       "      <td>NaN</td>\n",
       "      <td>NaN</td>\n",
       "    </tr>\n",
       "    <tr>\n",
       "      <th>93395</th>\n",
       "      <td>29984509</td>\n",
       "      <td>2158-11-01 15:00:00+00:00</td>\n",
       "      <td>&lt;NA&gt;</td>\n",
       "      <td>Other</td>\n",
       "      <td>None</td>\n",
       "      <td>None</td>\n",
       "      <td>RPM</td>\n",
       "      <td>5600.0</td>\n",
       "      <td>5.30</td>\n",
       "      <td>NaN</td>\n",
       "      <td>NaN</td>\n",
       "    </tr>\n",
       "    <tr>\n",
       "      <th>93396</th>\n",
       "      <td>29984509</td>\n",
       "      <td>2158-11-01 18:00:00+00:00</td>\n",
       "      <td>&lt;NA&gt;</td>\n",
       "      <td>Other</td>\n",
       "      <td>None</td>\n",
       "      <td>None</td>\n",
       "      <td>RPM</td>\n",
       "      <td>5600.0</td>\n",
       "      <td>5.20</td>\n",
       "      <td>NaN</td>\n",
       "      <td>NaN</td>\n",
       "    </tr>\n",
       "    <tr>\n",
       "      <th>93397</th>\n",
       "      <td>29984509</td>\n",
       "      <td>2158-11-01 22:00:00+00:00</td>\n",
       "      <td>&lt;NA&gt;</td>\n",
       "      <td>Other</td>\n",
       "      <td>None</td>\n",
       "      <td>None</td>\n",
       "      <td>RPM</td>\n",
       "      <td>5600.0</td>\n",
       "      <td>5.20</td>\n",
       "      <td>NaN</td>\n",
       "      <td>NaN</td>\n",
       "    </tr>\n",
       "    <tr>\n",
       "      <th>93398</th>\n",
       "      <td>29984509</td>\n",
       "      <td>2158-11-02 01:00:00+00:00</td>\n",
       "      <td>&lt;NA&gt;</td>\n",
       "      <td>Other</td>\n",
       "      <td>None</td>\n",
       "      <td>None</td>\n",
       "      <td>RPM</td>\n",
       "      <td>5600.0</td>\n",
       "      <td>5.20</td>\n",
       "      <td>NaN</td>\n",
       "      <td>NaN</td>\n",
       "    </tr>\n",
       "  </tbody>\n",
       "</table>\n",
       "<p>93399 rows × 11 columns</p>\n",
       "</div>"
      ],
      "text/plain": [
       "      hospitalization_id             recorded_dttm device_name  \\\n",
       "0               20044789 2180-08-20 01:00:00+00:00          VV   \n",
       "1               20044789 2180-08-20 02:00:00+00:00          VV   \n",
       "2               20044789 2180-08-20 02:30:00+00:00          VV   \n",
       "3               20044789 2180-08-20 03:00:00+00:00          VV   \n",
       "4               20044789 2180-08-20 04:00:00+00:00          VV   \n",
       "...                  ...                       ...         ...   \n",
       "93394           29984509 2158-11-01 13:00:00+00:00        <NA>   \n",
       "93395           29984509 2158-11-01 15:00:00+00:00        <NA>   \n",
       "93396           29984509 2158-11-01 18:00:00+00:00        <NA>   \n",
       "93397           29984509 2158-11-01 22:00:00+00:00        <NA>   \n",
       "93398           29984509 2158-11-02 01:00:00+00:00        <NA>   \n",
       "\n",
       "      device_category mcs_group   side device_metric_name  device_rate  flow  \\\n",
       "0               Other      ECMO  right                RPM       3400.0  3.20   \n",
       "1               Other      ECMO  right                RPM       3900.0  3.71   \n",
       "2               Other      ECMO  right                RPM       4000.0  3.84   \n",
       "3               Other      ECMO  right                RPM       4000.0  3.80   \n",
       "4               Other      ECMO  right                RPM       4000.0  3.77   \n",
       "...               ...       ...    ...                ...          ...   ...   \n",
       "93394           Other      None   None                RPM       5600.0  5.20   \n",
       "93395           Other      None   None                RPM       5600.0  5.30   \n",
       "93396           Other      None   None                RPM       5600.0  5.20   \n",
       "93397           Other      None   None                RPM       5600.0  5.20   \n",
       "93398           Other      None   None                RPM       5600.0  5.20   \n",
       "\n",
       "       sweep   fdo2  \n",
       "0        3.0  100.0  \n",
       "1        3.0  100.0  \n",
       "2        NaN    NaN  \n",
       "3        3.0  100.0  \n",
       "4        3.0  100.0  \n",
       "...      ...    ...  \n",
       "93394    NaN    NaN  \n",
       "93395    NaN    NaN  \n",
       "93396    NaN    NaN  \n",
       "93397    NaN    NaN  \n",
       "93398    NaN    NaN  \n",
       "\n",
       "[93399 rows x 11 columns]"
      ]
     },
     "execution_count": 7,
     "metadata": {},
     "output_type": "execute_result"
    }
   ],
   "source": [
    "clif_ecmo"
   ]
  },
  {
   "cell_type": "markdown",
   "metadata": {},
   "source": [
    "# Validate"
   ]
  },
  {
   "cell_type": "markdown",
   "metadata": {},
   "source": []
  }
 ],
 "metadata": {
  "kernelspec": {
   "display_name": ".venv",
   "language": "python",
   "name": "python3"
  },
  "language_info": {
   "codemirror_mode": {
    "name": "ipython",
    "version": 3
   },
   "file_extension": ".py",
   "mimetype": "text/x-python",
   "name": "python",
   "nbconvert_exporter": "python",
   "pygments_lexer": "ipython3",
   "version": "3.10.5"
  }
 },
 "nbformat": 4,
 "nbformat_minor": 2
}
