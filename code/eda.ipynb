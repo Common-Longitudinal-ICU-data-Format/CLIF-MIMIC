{
 "cells": [
  {
   "cell_type": "code",
   "execution_count": 6,
   "metadata": {},
   "outputs": [],
   "source": [
    "import pandas as pd\n",
    "import polars as pl\n",
    "from timeit import timeit"
   ]
  },
  {
   "cell_type": "code",
   "execution_count": 3,
   "metadata": {},
   "outputs": [],
   "source": [
    "d_labitems = pd.read_csv(\"mimic-iv-2.2/hosp/d_labitems.csv.gz\")"
   ]
  },
  {
   "cell_type": "code",
   "execution_count": 4,
   "metadata": {},
   "outputs": [
    {
     "data": {
      "text/html": [
       "<div>\n",
       "<style scoped>\n",
       "    .dataframe tbody tr th:only-of-type {\n",
       "        vertical-align: middle;\n",
       "    }\n",
       "\n",
       "    .dataframe tbody tr th {\n",
       "        vertical-align: top;\n",
       "    }\n",
       "\n",
       "    .dataframe thead th {\n",
       "        text-align: right;\n",
       "    }\n",
       "</style>\n",
       "<table border=\"1\" class=\"dataframe\">\n",
       "  <thead>\n",
       "    <tr style=\"text-align: right;\">\n",
       "      <th></th>\n",
       "      <th>itemid</th>\n",
       "      <th>label</th>\n",
       "      <th>fluid</th>\n",
       "      <th>category</th>\n",
       "    </tr>\n",
       "  </thead>\n",
       "  <tbody>\n",
       "    <tr>\n",
       "      <th>23</th>\n",
       "      <td>50825</td>\n",
       "      <td>Temperature</td>\n",
       "      <td>Blood</td>\n",
       "      <td>Blood Gas</td>\n",
       "    </tr>\n",
       "  </tbody>\n",
       "</table>\n",
       "</div>"
      ],
      "text/plain": [
       "    itemid        label  fluid   category\n",
       "23   50825  Temperature  Blood  Blood Gas"
      ]
     },
     "execution_count": 4,
     "metadata": {},
     "output_type": "execute_result"
    }
   ],
   "source": [
    "# d_labitems.head(10)\n",
    "contains = d_labitems[\"label\"].str.contains(\"temp\", case=False, na=False)\n",
    "d_labitems[contains]"
   ]
  },
  {
   "cell_type": "code",
   "execution_count": 19,
   "metadata": {},
   "outputs": [
    {
     "data": {
      "text/plain": [
       "array(['Blood Gas', 'Chemistry', 'Hematology'], dtype=object)"
      ]
     },
     "execution_count": 19,
     "metadata": {},
     "output_type": "execute_result"
    }
   ],
   "source": [
    "d_labitems[\"fluid\"].unique()\n",
    "d_labitems[\"category\"].unique()"
   ]
  },
  {
   "cell_type": "code",
   "execution_count": 12,
   "metadata": {},
   "outputs": [
    {
     "data": {
      "text/html": [
       "<div>\n",
       "<style scoped>\n",
       "    .dataframe tbody tr th:only-of-type {\n",
       "        vertical-align: middle;\n",
       "    }\n",
       "\n",
       "    .dataframe tbody tr th {\n",
       "        vertical-align: top;\n",
       "    }\n",
       "\n",
       "    .dataframe thead th {\n",
       "        text-align: right;\n",
       "    }\n",
       "</style>\n",
       "<table border=\"1\" class=\"dataframe\">\n",
       "  <thead>\n",
       "    <tr style=\"text-align: right;\">\n",
       "      <th></th>\n",
       "      <th>subject_id</th>\n",
       "      <th>chartdate</th>\n",
       "      <th>seq_num</th>\n",
       "      <th>result_name</th>\n",
       "      <th>result_value</th>\n",
       "    </tr>\n",
       "  </thead>\n",
       "  <tbody>\n",
       "    <tr>\n",
       "      <th>0</th>\n",
       "      <td>10000032</td>\n",
       "      <td>2180-04-27</td>\n",
       "      <td>1</td>\n",
       "      <td>Blood Pressure</td>\n",
       "      <td>110/65</td>\n",
       "    </tr>\n",
       "    <tr>\n",
       "      <th>1</th>\n",
       "      <td>10000032</td>\n",
       "      <td>2180-04-27</td>\n",
       "      <td>1</td>\n",
       "      <td>Weight (Lbs)</td>\n",
       "      <td>94</td>\n",
       "    </tr>\n",
       "    <tr>\n",
       "      <th>2</th>\n",
       "      <td>10000032</td>\n",
       "      <td>2180-05-07</td>\n",
       "      <td>1</td>\n",
       "      <td>BMI (kg/m2)</td>\n",
       "      <td>18.0</td>\n",
       "    </tr>\n",
       "    <tr>\n",
       "      <th>3</th>\n",
       "      <td>10000032</td>\n",
       "      <td>2180-05-07</td>\n",
       "      <td>1</td>\n",
       "      <td>Height (Inches)</td>\n",
       "      <td>60</td>\n",
       "    </tr>\n",
       "    <tr>\n",
       "      <th>4</th>\n",
       "      <td>10000032</td>\n",
       "      <td>2180-05-07</td>\n",
       "      <td>1</td>\n",
       "      <td>Weight (Lbs)</td>\n",
       "      <td>92.15</td>\n",
       "    </tr>\n",
       "    <tr>\n",
       "      <th>5</th>\n",
       "      <td>10000032</td>\n",
       "      <td>2180-05-07</td>\n",
       "      <td>2</td>\n",
       "      <td>Weight (Lbs)</td>\n",
       "      <td>92.15</td>\n",
       "    </tr>\n",
       "    <tr>\n",
       "      <th>6</th>\n",
       "      <td>10000032</td>\n",
       "      <td>2180-05-07</td>\n",
       "      <td>3</td>\n",
       "      <td>Weight (Lbs)</td>\n",
       "      <td>92.15</td>\n",
       "    </tr>\n",
       "    <tr>\n",
       "      <th>7</th>\n",
       "      <td>10000032</td>\n",
       "      <td>2180-05-07</td>\n",
       "      <td>4</td>\n",
       "      <td>Weight (Lbs)</td>\n",
       "      <td>92.15</td>\n",
       "    </tr>\n",
       "    <tr>\n",
       "      <th>8</th>\n",
       "      <td>10000032</td>\n",
       "      <td>2180-05-07</td>\n",
       "      <td>5</td>\n",
       "      <td>Weight (Lbs)</td>\n",
       "      <td>92.15</td>\n",
       "    </tr>\n",
       "    <tr>\n",
       "      <th>9</th>\n",
       "      <td>10000032</td>\n",
       "      <td>2180-05-07</td>\n",
       "      <td>6</td>\n",
       "      <td>Weight (Lbs)</td>\n",
       "      <td>92.15</td>\n",
       "    </tr>\n",
       "  </tbody>\n",
       "</table>\n",
       "</div>"
      ],
      "text/plain": [
       "   subject_id   chartdate  seq_num      result_name result_value\n",
       "0    10000032  2180-04-27        1   Blood Pressure       110/65\n",
       "1    10000032  2180-04-27        1     Weight (Lbs)           94\n",
       "2    10000032  2180-05-07        1      BMI (kg/m2)         18.0\n",
       "3    10000032  2180-05-07        1  Height (Inches)           60\n",
       "4    10000032  2180-05-07        1     Weight (Lbs)        92.15\n",
       "5    10000032  2180-05-07        2     Weight (Lbs)        92.15\n",
       "6    10000032  2180-05-07        3     Weight (Lbs)        92.15\n",
       "7    10000032  2180-05-07        4     Weight (Lbs)        92.15\n",
       "8    10000032  2180-05-07        5     Weight (Lbs)        92.15\n",
       "9    10000032  2180-05-07        6     Weight (Lbs)        92.15"
      ]
     },
     "execution_count": 12,
     "metadata": {},
     "output_type": "execute_result"
    }
   ],
   "source": [
    "omr = pd.read_csv(\"../mimic-iv-2.2/hosp/omr.csv.gz\")\n",
    "omr.head(10)"
   ]
  },
  {
   "cell_type": "markdown",
   "metadata": {},
   "source": [
    "## `icu`"
   ]
  },
  {
   "cell_type": "code",
   "execution_count": 6,
   "metadata": {},
   "outputs": [],
   "source": [
    "d_items = pd.read_csv(\"mimic-iv-2.2/icu/d_items.csv.gz\")"
   ]
  },
  {
   "cell_type": "code",
   "execution_count": 8,
   "metadata": {},
   "outputs": [
    {
     "data": {
      "text/html": [
       "<div>\n",
       "<style scoped>\n",
       "    .dataframe tbody tr th:only-of-type {\n",
       "        vertical-align: middle;\n",
       "    }\n",
       "\n",
       "    .dataframe tbody tr th {\n",
       "        vertical-align: top;\n",
       "    }\n",
       "\n",
       "    .dataframe thead th {\n",
       "        text-align: right;\n",
       "    }\n",
       "</style>\n",
       "<table border=\"1\" class=\"dataframe\">\n",
       "  <thead>\n",
       "    <tr style=\"text-align: right;\">\n",
       "      <th></th>\n",
       "      <th>itemid</th>\n",
       "      <th>label</th>\n",
       "      <th>abbreviation</th>\n",
       "      <th>linksto</th>\n",
       "      <th>category</th>\n",
       "      <th>unitname</th>\n",
       "      <th>param_type</th>\n",
       "      <th>lownormalvalue</th>\n",
       "      <th>highnormalvalue</th>\n",
       "    </tr>\n",
       "  </thead>\n",
       "  <tbody>\n",
       "    <tr>\n",
       "      <th>36</th>\n",
       "      <td>220277</td>\n",
       "      <td>O2 saturation pulseoxymetry</td>\n",
       "      <td>SpO2</td>\n",
       "      <td>chartevents</td>\n",
       "      <td>Respiratory</td>\n",
       "      <td>%</td>\n",
       "      <td>Numeric</td>\n",
       "      <td>NaN</td>\n",
       "      <td>NaN</td>\n",
       "    </tr>\n",
       "    <tr>\n",
       "      <th>345</th>\n",
       "      <td>223769</td>\n",
       "      <td>O2 Saturation Pulseoxymetry Alarm - High</td>\n",
       "      <td>SpO2 Alarm - High</td>\n",
       "      <td>chartevents</td>\n",
       "      <td>Alarms</td>\n",
       "      <td>%</td>\n",
       "      <td>Numeric</td>\n",
       "      <td>NaN</td>\n",
       "      <td>NaN</td>\n",
       "    </tr>\n",
       "    <tr>\n",
       "      <th>346</th>\n",
       "      <td>223770</td>\n",
       "      <td>O2 Saturation Pulseoxymetry Alarm - Low</td>\n",
       "      <td>SpO2 Alarm - Low</td>\n",
       "      <td>chartevents</td>\n",
       "      <td>Alarms</td>\n",
       "      <td>%</td>\n",
       "      <td>Numeric</td>\n",
       "      <td>NaN</td>\n",
       "      <td>NaN</td>\n",
       "    </tr>\n",
       "    <tr>\n",
       "      <th>1810</th>\n",
       "      <td>226253</td>\n",
       "      <td>SpO2 Desat Limit</td>\n",
       "      <td>SpO2 Desat Limit</td>\n",
       "      <td>chartevents</td>\n",
       "      <td>Alarms</td>\n",
       "      <td>%</td>\n",
       "      <td>Numeric</td>\n",
       "      <td>NaN</td>\n",
       "      <td>NaN</td>\n",
       "    </tr>\n",
       "    <tr>\n",
       "      <th>3920</th>\n",
       "      <td>229862</td>\n",
       "      <td>Forehead SpO2 Sensor in Place</td>\n",
       "      <td>Forehead SpO2 Sensor in Place</td>\n",
       "      <td>chartevents</td>\n",
       "      <td>Routine Vital Signs</td>\n",
       "      <td>NaN</td>\n",
       "      <td>Checkbox</td>\n",
       "      <td>NaN</td>\n",
       "      <td>NaN</td>\n",
       "    </tr>\n",
       "  </tbody>\n",
       "</table>\n",
       "</div>"
      ],
      "text/plain": [
       "      itemid                                     label  \\\n",
       "36    220277               O2 saturation pulseoxymetry   \n",
       "345   223769  O2 Saturation Pulseoxymetry Alarm - High   \n",
       "346   223770   O2 Saturation Pulseoxymetry Alarm - Low   \n",
       "1810  226253                          SpO2 Desat Limit   \n",
       "3920  229862             Forehead SpO2 Sensor in Place   \n",
       "\n",
       "                       abbreviation      linksto             category  \\\n",
       "36                             SpO2  chartevents          Respiratory   \n",
       "345               SpO2 Alarm - High  chartevents               Alarms   \n",
       "346                SpO2 Alarm - Low  chartevents               Alarms   \n",
       "1810               SpO2 Desat Limit  chartevents               Alarms   \n",
       "3920  Forehead SpO2 Sensor in Place  chartevents  Routine Vital Signs   \n",
       "\n",
       "     unitname param_type  lownormalvalue  highnormalvalue  \n",
       "36          %    Numeric             NaN              NaN  \n",
       "345         %    Numeric             NaN              NaN  \n",
       "346         %    Numeric             NaN              NaN  \n",
       "1810        %    Numeric             NaN              NaN  \n",
       "3920      NaN   Checkbox             NaN              NaN  "
      ]
     },
     "execution_count": 8,
     "metadata": {},
     "output_type": "execute_result"
    }
   ],
   "source": [
    "# d_items.head()\n",
    "d_items[\n",
    "    d_items[\"abbreviation\"].str.contains(\"spo2\", case=False, na=False)\n",
    "]"
   ]
  },
  {
   "cell_type": "markdown",
   "metadata": {},
   "source": [
    "### `chartevents`"
   ]
  },
  {
   "cell_type": "code",
   "execution_count": 13,
   "metadata": {},
   "outputs": [
    {
     "name": "stdout",
     "output_type": "stream",
     "text": [
      "1.188919428968802 0.9366396398982033\n"
     ]
    }
   ],
   "source": [
    "t1 = timeit(\n",
    "    lambda: pd.read_csv(\"mimic-iv-2.2/icu/chartevents.csv.gz\", nrows=100000), number = 10\n",
    ")\n",
    "\n",
    "t2 = timeit(\n",
    "    lambda: pl.read_csv(\"mimic-iv-2.2/icu/chartevents.csv.gz\", n_rows=100000), number = 10\n",
    ")\n",
    "\n",
    "print(t1,t2)"
   ]
  },
  {
   "cell_type": "code",
   "execution_count": 5,
   "metadata": {},
   "outputs": [],
   "source": [
    "chartevents = pd.read_csv(\"mimic-iv-2.2/icu/chartevents.csv.gz\", nrows=10)"
   ]
  }
 ],
 "metadata": {
  "kernelspec": {
   "display_name": "Python 3 (ipykernel)",
   "language": "python",
   "name": "python3"
  },
  "language_info": {
   "codemirror_mode": {
    "name": "ipython",
    "version": 3
   },
   "file_extension": ".py",
   "mimetype": "text/x-python",
   "name": "python",
   "nbconvert_exporter": "python",
   "pygments_lexer": "ipython3",
   "version": "3.10.5"
  }
 },
 "nbformat": 4,
 "nbformat_minor": 2
}
